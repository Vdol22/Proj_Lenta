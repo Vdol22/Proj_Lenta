{
 "cells": [
  {
   "cell_type": "code",
   "execution_count": 1,
   "id": "c5391767",
   "metadata": {},
   "outputs": [],
   "source": [
    "# Импортиуем библиотеки\n",
    "import pandas as pd\n"
   ]
  },
  {
   "cell_type": "code",
   "execution_count": 3,
   "id": "30182698",
   "metadata": {},
   "outputs": [],
   "source": [
    "# Открываем файлы\n",
    "\n",
    "names = ['sales_df_train', 'pr_df', 'st_df']\n",
    "\n",
    "for n in names:\n",
    "    \n",
    "        globals()[n] = pd.read_csv(f'{n}.csv')\n",
    "   "
   ]
  },
  {
   "cell_type": "code",
   "execution_count": 6,
   "id": "e093beba",
   "metadata": {
    "scrolled": true
   },
   "outputs": [
    {
     "data": {
      "text/html": [
       "<div>\n",
       "<style scoped>\n",
       "    .dataframe tbody tr th:only-of-type {\n",
       "        vertical-align: middle;\n",
       "    }\n",
       "\n",
       "    .dataframe tbody tr th {\n",
       "        vertical-align: top;\n",
       "    }\n",
       "\n",
       "    .dataframe thead th {\n",
       "        text-align: right;\n",
       "    }\n",
       "</style>\n",
       "<table border=\"1\" class=\"dataframe\">\n",
       "  <thead>\n",
       "    <tr style=\"text-align: right;\">\n",
       "      <th></th>\n",
       "      <th>st_id</th>\n",
       "      <th>pr_sku_id</th>\n",
       "      <th>date</th>\n",
       "      <th>pr_sales_type_id</th>\n",
       "      <th>pr_sales_in_units</th>\n",
       "      <th>pr_promo_sales_in_units</th>\n",
       "      <th>pr_sales_in_rub</th>\n",
       "      <th>pr_promo_sales_in_rub</th>\n",
       "    </tr>\n",
       "  </thead>\n",
       "  <tbody>\n",
       "    <tr>\n",
       "      <th>0</th>\n",
       "      <td>c81e728d9d4c2f636f067f89cc14862c</td>\n",
       "      <td>c7b711619071c92bef604c7ad68380dd</td>\n",
       "      <td>2022-10-20</td>\n",
       "      <td>1</td>\n",
       "      <td>5.0</td>\n",
       "      <td>5.0</td>\n",
       "      <td>825.0</td>\n",
       "      <td>825.0</td>\n",
       "    </tr>\n",
       "    <tr>\n",
       "      <th>1</th>\n",
       "      <td>42a0e188f5033bc65bf8d78622277c4e</td>\n",
       "      <td>68f441429e73dbd33b81f95da31576e9</td>\n",
       "      <td>2023-01-29</td>\n",
       "      <td>0</td>\n",
       "      <td>4.0</td>\n",
       "      <td>0.0</td>\n",
       "      <td>196.0</td>\n",
       "      <td>0.0</td>\n",
       "    </tr>\n",
       "    <tr>\n",
       "      <th>2</th>\n",
       "      <td>1ecfb463472ec9115b10c292ef8bc986</td>\n",
       "      <td>22988026fe85fde60d8bf777ab6bc3b4</td>\n",
       "      <td>2023-03-02</td>\n",
       "      <td>0</td>\n",
       "      <td>1.0</td>\n",
       "      <td>0.0</td>\n",
       "      <td>78.0</td>\n",
       "      <td>0.0</td>\n",
       "    </tr>\n",
       "    <tr>\n",
       "      <th>3</th>\n",
       "      <td>42a0e188f5033bc65bf8d78622277c4e</td>\n",
       "      <td>8e887cf8e64ab8e7173701a979476567</td>\n",
       "      <td>2023-04-05</td>\n",
       "      <td>1</td>\n",
       "      <td>0.0</td>\n",
       "      <td>0.0</td>\n",
       "      <td>69.0</td>\n",
       "      <td>69.0</td>\n",
       "    </tr>\n",
       "    <tr>\n",
       "      <th>4</th>\n",
       "      <td>16a5cdae362b8d27a1d8f8c7b78b4330</td>\n",
       "      <td>e6fc24ca846339d204b0b50e9f772484</td>\n",
       "      <td>2023-02-17</td>\n",
       "      <td>0</td>\n",
       "      <td>1.0</td>\n",
       "      <td>0.0</td>\n",
       "      <td>161.0</td>\n",
       "      <td>0.0</td>\n",
       "    </tr>\n",
       "  </tbody>\n",
       "</table>\n",
       "</div>"
      ],
      "text/plain": [
       "                              st_id                         pr_sku_id  \\\n",
       "0  c81e728d9d4c2f636f067f89cc14862c  c7b711619071c92bef604c7ad68380dd   \n",
       "1  42a0e188f5033bc65bf8d78622277c4e  68f441429e73dbd33b81f95da31576e9   \n",
       "2  1ecfb463472ec9115b10c292ef8bc986  22988026fe85fde60d8bf777ab6bc3b4   \n",
       "3  42a0e188f5033bc65bf8d78622277c4e  8e887cf8e64ab8e7173701a979476567   \n",
       "4  16a5cdae362b8d27a1d8f8c7b78b4330  e6fc24ca846339d204b0b50e9f772484   \n",
       "\n",
       "         date  pr_sales_type_id  pr_sales_in_units  pr_promo_sales_in_units  \\\n",
       "0  2022-10-20                 1                5.0                      5.0   \n",
       "1  2023-01-29                 0                4.0                      0.0   \n",
       "2  2023-03-02                 0                1.0                      0.0   \n",
       "3  2023-04-05                 1                0.0                      0.0   \n",
       "4  2023-02-17                 0                1.0                      0.0   \n",
       "\n",
       "   pr_sales_in_rub  pr_promo_sales_in_rub  \n",
       "0            825.0                  825.0  \n",
       "1            196.0                    0.0  \n",
       "2             78.0                    0.0  \n",
       "3             69.0                   69.0  \n",
       "4            161.0                    0.0  "
      ]
     },
     "execution_count": 6,
     "metadata": {},
     "output_type": "execute_result"
    }
   ],
   "source": [
    "sales_df_train.head()"
   ]
  },
  {
   "cell_type": "code",
   "execution_count": 11,
   "id": "63d12a1b",
   "metadata": {},
   "outputs": [
    {
     "name": "stdout",
     "output_type": "stream",
     "text": [
      "<class 'pandas.core.frame.DataFrame'>\n",
      "RangeIndex: 883015 entries, 0 to 883014\n",
      "Data columns (total 8 columns):\n",
      " #   Column                   Non-Null Count   Dtype  \n",
      "---  ------                   --------------   -----  \n",
      " 0   st_id                    883015 non-null  object \n",
      " 1   pr_sku_id                883015 non-null  object \n",
      " 2   date                     883015 non-null  object \n",
      " 3   pr_sales_type_id         883015 non-null  int64  \n",
      " 4   pr_sales_in_units        883015 non-null  float64\n",
      " 5   pr_promo_sales_in_units  883015 non-null  float64\n",
      " 6   pr_sales_in_rub          883015 non-null  float64\n",
      " 7   pr_promo_sales_in_rub    883015 non-null  float64\n",
      "dtypes: float64(4), int64(1), object(3)\n",
      "memory usage: 53.9+ MB\n"
     ]
    }
   ],
   "source": [
    "sales_df_train.info()"
   ]
  },
  {
   "cell_type": "code",
   "execution_count": 7,
   "id": "75a339c2",
   "metadata": {
    "scrolled": true
   },
   "outputs": [
    {
     "data": {
      "text/html": [
       "<div>\n",
       "<style scoped>\n",
       "    .dataframe tbody tr th:only-of-type {\n",
       "        vertical-align: middle;\n",
       "    }\n",
       "\n",
       "    .dataframe tbody tr th {\n",
       "        vertical-align: top;\n",
       "    }\n",
       "\n",
       "    .dataframe thead th {\n",
       "        text-align: right;\n",
       "    }\n",
       "</style>\n",
       "<table border=\"1\" class=\"dataframe\">\n",
       "  <thead>\n",
       "    <tr style=\"text-align: right;\">\n",
       "      <th></th>\n",
       "      <th>pr_sku_id</th>\n",
       "      <th>pr_group_id</th>\n",
       "      <th>pr_cat_id</th>\n",
       "      <th>pr_subcat_id</th>\n",
       "      <th>pr_uom_id</th>\n",
       "    </tr>\n",
       "  </thead>\n",
       "  <tbody>\n",
       "    <tr>\n",
       "      <th>0</th>\n",
       "      <td>fd064933250b0bfe4f926b867b0a5ec8</td>\n",
       "      <td>c74d97b01eae257e44aa9d5bade97baf</td>\n",
       "      <td>1bc0249a6412ef49b07fe6f62e6dc8de</td>\n",
       "      <td>ca34f669ae367c87f0e75dcae0f61ee5</td>\n",
       "      <td>17</td>\n",
       "    </tr>\n",
       "    <tr>\n",
       "      <th>1</th>\n",
       "      <td>71c9661741caf40a92a32d1cc8206c04</td>\n",
       "      <td>c74d97b01eae257e44aa9d5bade97baf</td>\n",
       "      <td>c559da2ba967eb820766939a658022c8</td>\n",
       "      <td>e06f5ed77191826c212c30722f2cc5a2</td>\n",
       "      <td>17</td>\n",
       "    </tr>\n",
       "    <tr>\n",
       "      <th>2</th>\n",
       "      <td>00b72c2f01a1512cbb1d3f33319bac93</td>\n",
       "      <td>c74d97b01eae257e44aa9d5bade97baf</td>\n",
       "      <td>1bc0249a6412ef49b07fe6f62e6dc8de</td>\n",
       "      <td>d407a3ebb4ab9b0d68b224486f8b8dad</td>\n",
       "      <td>17</td>\n",
       "    </tr>\n",
       "    <tr>\n",
       "      <th>3</th>\n",
       "      <td>9bc40cd2fe4f188f402bb41548c5e15c</td>\n",
       "      <td>c74d97b01eae257e44aa9d5bade97baf</td>\n",
       "      <td>1bc0249a6412ef49b07fe6f62e6dc8de</td>\n",
       "      <td>ca34f669ae367c87f0e75dcae0f61ee5</td>\n",
       "      <td>17</td>\n",
       "    </tr>\n",
       "    <tr>\n",
       "      <th>4</th>\n",
       "      <td>3a74a370c8eb032acb11ad9119242b8f</td>\n",
       "      <td>c74d97b01eae257e44aa9d5bade97baf</td>\n",
       "      <td>c559da2ba967eb820766939a658022c8</td>\n",
       "      <td>e06f5ed77191826c212c30722f2cc5a2</td>\n",
       "      <td>17</td>\n",
       "    </tr>\n",
       "  </tbody>\n",
       "</table>\n",
       "</div>"
      ],
      "text/plain": [
       "                          pr_sku_id                       pr_group_id  \\\n",
       "0  fd064933250b0bfe4f926b867b0a5ec8  c74d97b01eae257e44aa9d5bade97baf   \n",
       "1  71c9661741caf40a92a32d1cc8206c04  c74d97b01eae257e44aa9d5bade97baf   \n",
       "2  00b72c2f01a1512cbb1d3f33319bac93  c74d97b01eae257e44aa9d5bade97baf   \n",
       "3  9bc40cd2fe4f188f402bb41548c5e15c  c74d97b01eae257e44aa9d5bade97baf   \n",
       "4  3a74a370c8eb032acb11ad9119242b8f  c74d97b01eae257e44aa9d5bade97baf   \n",
       "\n",
       "                          pr_cat_id                      pr_subcat_id  \\\n",
       "0  1bc0249a6412ef49b07fe6f62e6dc8de  ca34f669ae367c87f0e75dcae0f61ee5   \n",
       "1  c559da2ba967eb820766939a658022c8  e06f5ed77191826c212c30722f2cc5a2   \n",
       "2  1bc0249a6412ef49b07fe6f62e6dc8de  d407a3ebb4ab9b0d68b224486f8b8dad   \n",
       "3  1bc0249a6412ef49b07fe6f62e6dc8de  ca34f669ae367c87f0e75dcae0f61ee5   \n",
       "4  c559da2ba967eb820766939a658022c8  e06f5ed77191826c212c30722f2cc5a2   \n",
       "\n",
       "   pr_uom_id  \n",
       "0         17  \n",
       "1         17  \n",
       "2         17  \n",
       "3         17  \n",
       "4         17  "
      ]
     },
     "execution_count": 7,
     "metadata": {},
     "output_type": "execute_result"
    }
   ],
   "source": [
    "pr_df.head()"
   ]
  },
  {
   "cell_type": "code",
   "execution_count": 12,
   "id": "7287a455",
   "metadata": {},
   "outputs": [
    {
     "name": "stdout",
     "output_type": "stream",
     "text": [
      "<class 'pandas.core.frame.DataFrame'>\n",
      "RangeIndex: 2050 entries, 0 to 2049\n",
      "Data columns (total 5 columns):\n",
      " #   Column        Non-Null Count  Dtype \n",
      "---  ------        --------------  ----- \n",
      " 0   pr_sku_id     2050 non-null   object\n",
      " 1   pr_group_id   2050 non-null   object\n",
      " 2   pr_cat_id     2050 non-null   object\n",
      " 3   pr_subcat_id  2050 non-null   object\n",
      " 4   pr_uom_id     2050 non-null   int64 \n",
      "dtypes: int64(1), object(4)\n",
      "memory usage: 80.2+ KB\n"
     ]
    }
   ],
   "source": [
    "pr_df.info()"
   ]
  },
  {
   "cell_type": "code",
   "execution_count": 8,
   "id": "a8e7e819",
   "metadata": {
    "scrolled": true
   },
   "outputs": [
    {
     "data": {
      "text/html": [
       "<div>\n",
       "<style scoped>\n",
       "    .dataframe tbody tr th:only-of-type {\n",
       "        vertical-align: middle;\n",
       "    }\n",
       "\n",
       "    .dataframe tbody tr th {\n",
       "        vertical-align: top;\n",
       "    }\n",
       "\n",
       "    .dataframe thead th {\n",
       "        text-align: right;\n",
       "    }\n",
       "</style>\n",
       "<table border=\"1\" class=\"dataframe\">\n",
       "  <thead>\n",
       "    <tr style=\"text-align: right;\">\n",
       "      <th></th>\n",
       "      <th>st_id</th>\n",
       "      <th>st_city_id</th>\n",
       "      <th>st_division_code</th>\n",
       "      <th>st_type_format_id</th>\n",
       "      <th>st_type_loc_id</th>\n",
       "      <th>st_type_size_id</th>\n",
       "      <th>st_is_active</th>\n",
       "    </tr>\n",
       "  </thead>\n",
       "  <tbody>\n",
       "    <tr>\n",
       "      <th>0</th>\n",
       "      <td>1aa057313c28fa4a40c5bc084b11d276</td>\n",
       "      <td>1587965fb4d4b5afe8428a4a024feb0d</td>\n",
       "      <td>81b4dd343f5880df806d4c5d4a846c64</td>\n",
       "      <td>4</td>\n",
       "      <td>3</td>\n",
       "      <td>19</td>\n",
       "      <td>0</td>\n",
       "    </tr>\n",
       "    <tr>\n",
       "      <th>1</th>\n",
       "      <td>bd470ca955d9497bbcb808e59952fffc</td>\n",
       "      <td>955d864a62659945cc9434898e275deb</td>\n",
       "      <td>e26072c92d8fe0738df44d571d5f5e8b</td>\n",
       "      <td>4</td>\n",
       "      <td>3</td>\n",
       "      <td>19</td>\n",
       "      <td>1</td>\n",
       "    </tr>\n",
       "    <tr>\n",
       "      <th>2</th>\n",
       "      <td>6364d3f0f495b6ab9dcf8d3b5c6e0b01</td>\n",
       "      <td>b8b4b727d6f5d1b61fff7be687f7970f</td>\n",
       "      <td>da742b3cfca5388aaf9af28a726a3c30</td>\n",
       "      <td>1</td>\n",
       "      <td>1</td>\n",
       "      <td>12</td>\n",
       "      <td>1</td>\n",
       "    </tr>\n",
       "    <tr>\n",
       "      <th>3</th>\n",
       "      <td>1ecfb463472ec9115b10c292ef8bc986</td>\n",
       "      <td>908c9a564a86426585b29f5335b619bc</td>\n",
       "      <td>429a86ff6336c144ddaf6144f52ab52c</td>\n",
       "      <td>2</td>\n",
       "      <td>1</td>\n",
       "      <td>28</td>\n",
       "      <td>1</td>\n",
       "    </tr>\n",
       "    <tr>\n",
       "      <th>4</th>\n",
       "      <td>16a5cdae362b8d27a1d8f8c7b78b4330</td>\n",
       "      <td>c1f75cc0f7fe269dd0fd9bd5e24f9586</td>\n",
       "      <td>296bd0cc6e735f9d7488ebc8fbc19130</td>\n",
       "      <td>1</td>\n",
       "      <td>2</td>\n",
       "      <td>8</td>\n",
       "      <td>1</td>\n",
       "    </tr>\n",
       "  </tbody>\n",
       "</table>\n",
       "</div>"
      ],
      "text/plain": [
       "                              st_id                        st_city_id  \\\n",
       "0  1aa057313c28fa4a40c5bc084b11d276  1587965fb4d4b5afe8428a4a024feb0d   \n",
       "1  bd470ca955d9497bbcb808e59952fffc  955d864a62659945cc9434898e275deb   \n",
       "2  6364d3f0f495b6ab9dcf8d3b5c6e0b01  b8b4b727d6f5d1b61fff7be687f7970f   \n",
       "3  1ecfb463472ec9115b10c292ef8bc986  908c9a564a86426585b29f5335b619bc   \n",
       "4  16a5cdae362b8d27a1d8f8c7b78b4330  c1f75cc0f7fe269dd0fd9bd5e24f9586   \n",
       "\n",
       "                   st_division_code  st_type_format_id  st_type_loc_id  \\\n",
       "0  81b4dd343f5880df806d4c5d4a846c64                  4               3   \n",
       "1  e26072c92d8fe0738df44d571d5f5e8b                  4               3   \n",
       "2  da742b3cfca5388aaf9af28a726a3c30                  1               1   \n",
       "3  429a86ff6336c144ddaf6144f52ab52c                  2               1   \n",
       "4  296bd0cc6e735f9d7488ebc8fbc19130                  1               2   \n",
       "\n",
       "   st_type_size_id  st_is_active  \n",
       "0               19             0  \n",
       "1               19             1  \n",
       "2               12             1  \n",
       "3               28             1  \n",
       "4                8             1  "
      ]
     },
     "execution_count": 8,
     "metadata": {},
     "output_type": "execute_result"
    }
   ],
   "source": [
    "st_df.head()"
   ]
  },
  {
   "cell_type": "code",
   "execution_count": 13,
   "id": "23f7be08",
   "metadata": {},
   "outputs": [
    {
     "name": "stdout",
     "output_type": "stream",
     "text": [
      "<class 'pandas.core.frame.DataFrame'>\n",
      "RangeIndex: 12 entries, 0 to 11\n",
      "Data columns (total 7 columns):\n",
      " #   Column             Non-Null Count  Dtype \n",
      "---  ------             --------------  ----- \n",
      " 0   st_id              12 non-null     object\n",
      " 1   st_city_id         12 non-null     object\n",
      " 2   st_division_code   12 non-null     object\n",
      " 3   st_type_format_id  12 non-null     int64 \n",
      " 4   st_type_loc_id     12 non-null     int64 \n",
      " 5   st_type_size_id    12 non-null     int64 \n",
      " 6   st_is_active       12 non-null     int64 \n",
      "dtypes: int64(4), object(3)\n",
      "memory usage: 800.0+ bytes\n"
     ]
    }
   ],
   "source": [
    "st_df.info()"
   ]
  },
  {
   "cell_type": "code",
   "execution_count": 14,
   "id": "615a1ee3",
   "metadata": {},
   "outputs": [
    {
     "name": "stdout",
     "output_type": "stream",
     "text": [
      "0\n",
      "0\n",
      "0\n"
     ]
    }
   ],
   "source": [
    "# Проверим данные на полные дубликаты\n",
    "for n in names:\n",
    "    print(globals()[n].duplicated().sum())"
   ]
  },
  {
   "cell_type": "code",
   "execution_count": 16,
   "id": "b6cbd746",
   "metadata": {},
   "outputs": [
    {
     "name": "stdout",
     "output_type": "stream",
     "text": [
      "0\n",
      "0\n",
      "0\n"
     ]
    }
   ],
   "source": [
    "# Проверим данные на полные дубликаты\n",
    "for n in names:\n",
    "    print(globals()[n].duplicated().sum())"
   ]
  },
  {
   "cell_type": "code",
   "execution_count": 9,
   "id": "0ef3c25a",
   "metadata": {},
   "outputs": [],
   "source": [
    "temp_df = pd.merge(sales_df_train, pr_df, on='pr_sku_id')\n",
    "df = pd.merge(temp_df, st_df, on='st_id')\n",
    "del temp_df"
   ]
  },
  {
   "cell_type": "code",
   "execution_count": 10,
   "id": "02493010",
   "metadata": {
    "scrolled": true
   },
   "outputs": [
    {
     "data": {
      "text/html": [
       "<div>\n",
       "<style scoped>\n",
       "    .dataframe tbody tr th:only-of-type {\n",
       "        vertical-align: middle;\n",
       "    }\n",
       "\n",
       "    .dataframe tbody tr th {\n",
       "        vertical-align: top;\n",
       "    }\n",
       "\n",
       "    .dataframe thead th {\n",
       "        text-align: right;\n",
       "    }\n",
       "</style>\n",
       "<table border=\"1\" class=\"dataframe\">\n",
       "  <thead>\n",
       "    <tr style=\"text-align: right;\">\n",
       "      <th></th>\n",
       "      <th>st_id</th>\n",
       "      <th>pr_sku_id</th>\n",
       "      <th>date</th>\n",
       "      <th>pr_sales_type_id</th>\n",
       "      <th>pr_sales_in_units</th>\n",
       "      <th>pr_promo_sales_in_units</th>\n",
       "      <th>pr_sales_in_rub</th>\n",
       "      <th>pr_promo_sales_in_rub</th>\n",
       "      <th>pr_group_id</th>\n",
       "      <th>pr_cat_id</th>\n",
       "      <th>pr_subcat_id</th>\n",
       "      <th>pr_uom_id</th>\n",
       "      <th>st_city_id</th>\n",
       "      <th>st_division_code</th>\n",
       "      <th>st_type_format_id</th>\n",
       "      <th>st_type_loc_id</th>\n",
       "      <th>st_type_size_id</th>\n",
       "      <th>st_is_active</th>\n",
       "    </tr>\n",
       "  </thead>\n",
       "  <tbody>\n",
       "    <tr>\n",
       "      <th>0</th>\n",
       "      <td>c81e728d9d4c2f636f067f89cc14862c</td>\n",
       "      <td>c7b711619071c92bef604c7ad68380dd</td>\n",
       "      <td>2022-10-20</td>\n",
       "      <td>1</td>\n",
       "      <td>5.0</td>\n",
       "      <td>5.0</td>\n",
       "      <td>825.0</td>\n",
       "      <td>825.0</td>\n",
       "      <td>aab3238922bcc25a6f606eb525ffdc56</td>\n",
       "      <td>28fc2782ea7ef51c1104ccf7b9bea13d</td>\n",
       "      <td>d29b5ce9c2883f0b7e90f79071a2ca82</td>\n",
       "      <td>1</td>\n",
       "      <td>908c9a564a86426585b29f5335b619bc</td>\n",
       "      <td>429a86ff6336c144ddaf6144f52ab52c</td>\n",
       "      <td>1</td>\n",
       "      <td>1</td>\n",
       "      <td>8</td>\n",
       "      <td>1</td>\n",
       "    </tr>\n",
       "    <tr>\n",
       "      <th>1</th>\n",
       "      <td>c81e728d9d4c2f636f067f89cc14862c</td>\n",
       "      <td>c7b711619071c92bef604c7ad68380dd</td>\n",
       "      <td>2023-02-02</td>\n",
       "      <td>1</td>\n",
       "      <td>1.0</td>\n",
       "      <td>1.0</td>\n",
       "      <td>107.0</td>\n",
       "      <td>107.0</td>\n",
       "      <td>aab3238922bcc25a6f606eb525ffdc56</td>\n",
       "      <td>28fc2782ea7ef51c1104ccf7b9bea13d</td>\n",
       "      <td>d29b5ce9c2883f0b7e90f79071a2ca82</td>\n",
       "      <td>1</td>\n",
       "      <td>908c9a564a86426585b29f5335b619bc</td>\n",
       "      <td>429a86ff6336c144ddaf6144f52ab52c</td>\n",
       "      <td>1</td>\n",
       "      <td>1</td>\n",
       "      <td>8</td>\n",
       "      <td>1</td>\n",
       "    </tr>\n",
       "    <tr>\n",
       "      <th>2</th>\n",
       "      <td>c81e728d9d4c2f636f067f89cc14862c</td>\n",
       "      <td>c7b711619071c92bef604c7ad68380dd</td>\n",
       "      <td>2022-10-09</td>\n",
       "      <td>1</td>\n",
       "      <td>1.0</td>\n",
       "      <td>1.0</td>\n",
       "      <td>167.0</td>\n",
       "      <td>167.0</td>\n",
       "      <td>aab3238922bcc25a6f606eb525ffdc56</td>\n",
       "      <td>28fc2782ea7ef51c1104ccf7b9bea13d</td>\n",
       "      <td>d29b5ce9c2883f0b7e90f79071a2ca82</td>\n",
       "      <td>1</td>\n",
       "      <td>908c9a564a86426585b29f5335b619bc</td>\n",
       "      <td>429a86ff6336c144ddaf6144f52ab52c</td>\n",
       "      <td>1</td>\n",
       "      <td>1</td>\n",
       "      <td>8</td>\n",
       "      <td>1</td>\n",
       "    </tr>\n",
       "    <tr>\n",
       "      <th>3</th>\n",
       "      <td>c81e728d9d4c2f636f067f89cc14862c</td>\n",
       "      <td>c7b711619071c92bef604c7ad68380dd</td>\n",
       "      <td>2023-06-22</td>\n",
       "      <td>0</td>\n",
       "      <td>0.0</td>\n",
       "      <td>0.0</td>\n",
       "      <td>79.0</td>\n",
       "      <td>0.0</td>\n",
       "      <td>aab3238922bcc25a6f606eb525ffdc56</td>\n",
       "      <td>28fc2782ea7ef51c1104ccf7b9bea13d</td>\n",
       "      <td>d29b5ce9c2883f0b7e90f79071a2ca82</td>\n",
       "      <td>1</td>\n",
       "      <td>908c9a564a86426585b29f5335b619bc</td>\n",
       "      <td>429a86ff6336c144ddaf6144f52ab52c</td>\n",
       "      <td>1</td>\n",
       "      <td>1</td>\n",
       "      <td>8</td>\n",
       "      <td>1</td>\n",
       "    </tr>\n",
       "    <tr>\n",
       "      <th>4</th>\n",
       "      <td>c81e728d9d4c2f636f067f89cc14862c</td>\n",
       "      <td>c7b711619071c92bef604c7ad68380dd</td>\n",
       "      <td>2023-06-30</td>\n",
       "      <td>1</td>\n",
       "      <td>25.0</td>\n",
       "      <td>25.0</td>\n",
       "      <td>3766.0</td>\n",
       "      <td>3766.0</td>\n",
       "      <td>aab3238922bcc25a6f606eb525ffdc56</td>\n",
       "      <td>28fc2782ea7ef51c1104ccf7b9bea13d</td>\n",
       "      <td>d29b5ce9c2883f0b7e90f79071a2ca82</td>\n",
       "      <td>1</td>\n",
       "      <td>908c9a564a86426585b29f5335b619bc</td>\n",
       "      <td>429a86ff6336c144ddaf6144f52ab52c</td>\n",
       "      <td>1</td>\n",
       "      <td>1</td>\n",
       "      <td>8</td>\n",
       "      <td>1</td>\n",
       "    </tr>\n",
       "  </tbody>\n",
       "</table>\n",
       "</div>"
      ],
      "text/plain": [
       "                              st_id                         pr_sku_id  \\\n",
       "0  c81e728d9d4c2f636f067f89cc14862c  c7b711619071c92bef604c7ad68380dd   \n",
       "1  c81e728d9d4c2f636f067f89cc14862c  c7b711619071c92bef604c7ad68380dd   \n",
       "2  c81e728d9d4c2f636f067f89cc14862c  c7b711619071c92bef604c7ad68380dd   \n",
       "3  c81e728d9d4c2f636f067f89cc14862c  c7b711619071c92bef604c7ad68380dd   \n",
       "4  c81e728d9d4c2f636f067f89cc14862c  c7b711619071c92bef604c7ad68380dd   \n",
       "\n",
       "         date  pr_sales_type_id  pr_sales_in_units  pr_promo_sales_in_units  \\\n",
       "0  2022-10-20                 1                5.0                      5.0   \n",
       "1  2023-02-02                 1                1.0                      1.0   \n",
       "2  2022-10-09                 1                1.0                      1.0   \n",
       "3  2023-06-22                 0                0.0                      0.0   \n",
       "4  2023-06-30                 1               25.0                     25.0   \n",
       "\n",
       "   pr_sales_in_rub  pr_promo_sales_in_rub                       pr_group_id  \\\n",
       "0            825.0                  825.0  aab3238922bcc25a6f606eb525ffdc56   \n",
       "1            107.0                  107.0  aab3238922bcc25a6f606eb525ffdc56   \n",
       "2            167.0                  167.0  aab3238922bcc25a6f606eb525ffdc56   \n",
       "3             79.0                    0.0  aab3238922bcc25a6f606eb525ffdc56   \n",
       "4           3766.0                 3766.0  aab3238922bcc25a6f606eb525ffdc56   \n",
       "\n",
       "                          pr_cat_id                      pr_subcat_id  \\\n",
       "0  28fc2782ea7ef51c1104ccf7b9bea13d  d29b5ce9c2883f0b7e90f79071a2ca82   \n",
       "1  28fc2782ea7ef51c1104ccf7b9bea13d  d29b5ce9c2883f0b7e90f79071a2ca82   \n",
       "2  28fc2782ea7ef51c1104ccf7b9bea13d  d29b5ce9c2883f0b7e90f79071a2ca82   \n",
       "3  28fc2782ea7ef51c1104ccf7b9bea13d  d29b5ce9c2883f0b7e90f79071a2ca82   \n",
       "4  28fc2782ea7ef51c1104ccf7b9bea13d  d29b5ce9c2883f0b7e90f79071a2ca82   \n",
       "\n",
       "   pr_uom_id                        st_city_id  \\\n",
       "0          1  908c9a564a86426585b29f5335b619bc   \n",
       "1          1  908c9a564a86426585b29f5335b619bc   \n",
       "2          1  908c9a564a86426585b29f5335b619bc   \n",
       "3          1  908c9a564a86426585b29f5335b619bc   \n",
       "4          1  908c9a564a86426585b29f5335b619bc   \n",
       "\n",
       "                   st_division_code  st_type_format_id  st_type_loc_id  \\\n",
       "0  429a86ff6336c144ddaf6144f52ab52c                  1               1   \n",
       "1  429a86ff6336c144ddaf6144f52ab52c                  1               1   \n",
       "2  429a86ff6336c144ddaf6144f52ab52c                  1               1   \n",
       "3  429a86ff6336c144ddaf6144f52ab52c                  1               1   \n",
       "4  429a86ff6336c144ddaf6144f52ab52c                  1               1   \n",
       "\n",
       "   st_type_size_id  st_is_active  \n",
       "0                8             1  \n",
       "1                8             1  \n",
       "2                8             1  \n",
       "3                8             1  \n",
       "4                8             1  "
      ]
     },
     "execution_count": 10,
     "metadata": {},
     "output_type": "execute_result"
    }
   ],
   "source": [
    "df.head()"
   ]
  },
  {
   "cell_type": "code",
   "execution_count": 38,
   "id": "91d408f6",
   "metadata": {},
   "outputs": [
    {
     "name": "stdout",
     "output_type": "stream",
     "text": [
      "<class 'pandas.core.frame.DataFrame'>\n",
      "Int64Index: 883015 entries, 0 to 883014\n",
      "Data columns (total 18 columns):\n",
      " #   Column                   Non-Null Count   Dtype         \n",
      "---  ------                   --------------   -----         \n",
      " 0   st_id                    883015 non-null  object        \n",
      " 1   pr_sku_id                883015 non-null  object        \n",
      " 2   date                     883015 non-null  datetime64[ns]\n",
      " 3   pr_sales_type_id         883015 non-null  int64         \n",
      " 4   pr_sales_in_units        883015 non-null  float64       \n",
      " 5   pr_promo_sales_in_units  883015 non-null  float64       \n",
      " 6   pr_sales_in_rub          883015 non-null  float64       \n",
      " 7   pr_promo_sales_in_rub    883015 non-null  float64       \n",
      " 8   pr_group_id              883015 non-null  object        \n",
      " 9   pr_cat_id                883015 non-null  object        \n",
      " 10  pr_subcat_id             883015 non-null  object        \n",
      " 11  pr_uom_id                883015 non-null  int64         \n",
      " 12  st_city_id               883015 non-null  object        \n",
      " 13  st_division_code         883015 non-null  object        \n",
      " 14  st_type_format_id        883015 non-null  int64         \n",
      " 15  st_type_loc_id           883015 non-null  int64         \n",
      " 16  st_type_size_id          883015 non-null  int64         \n",
      " 17  st_is_active             883015 non-null  int64         \n",
      "dtypes: datetime64[ns](1), float64(4), int64(6), object(7)\n",
      "memory usage: 128.0+ MB\n"
     ]
    }
   ],
   "source": [
    "df.info()"
   ]
  },
  {
   "cell_type": "code",
   "execution_count": 43,
   "id": "9f10cc1f",
   "metadata": {},
   "outputs": [
    {
     "data": {
      "text/plain": [
       "352"
      ]
     },
     "execution_count": 43,
     "metadata": {},
     "output_type": "execute_result"
    }
   ],
   "source": [
    "len(df['date'].unique())"
   ]
  },
  {
   "cell_type": "code",
   "execution_count": 22,
   "id": "bb213297",
   "metadata": {
    "scrolled": true
   },
   "outputs": [
    {
     "data": {
      "text/plain": [
       "True"
      ]
     },
     "execution_count": 22,
     "metadata": {},
     "output_type": "execute_result"
    }
   ],
   "source": [
    "# Проверим расположены ли даты и время в хронологическом ли порядке  \n",
    "df.index.is_monotonic"
   ]
  },
  {
   "cell_type": "code",
   "execution_count": 17,
   "id": "0b92e5b6",
   "metadata": {},
   "outputs": [],
   "source": [
    "df['date'] = pd.to_datetime(df['date']) "
   ]
  },
  {
   "cell_type": "code",
   "execution_count": 48,
   "id": "788861b7",
   "metadata": {
    "scrolled": true
   },
   "outputs": [
    {
     "data": {
      "image/png": "[encoded data removed]",
      "text/plain": [
       "<Figure size 2000x1200 with 1 Axes>"
      ]
     },
     "metadata": {},
     "output_type": "display_data"
    }
   ],
   "source": [
    "# Построим график кол-ва проданных, скользящего среднего и стандартного отклонения\n",
    "df_a = df.copy()\n",
    "\n",
    "df_a['rolling_mean'] = df_a['pr_promo_sales_in_units'].rolling(14).mean()\n",
    "df_a['std'] = df_a['pr_promo_sales_in_units'].rolling(14).std()\n",
    "\n",
    "df_a[['date', 'pr_promo_sales_in_units', 'rolling_mean', 'std']].plot(figsize=(20, 12), \n",
    "                                             x='date',\n",
    "                                             title = 'График кол-ва проданных, скользящего среднего и стандартного отклонения');"
   ]
  },
  {
   "cell_type": "code",
   "execution_count": 19,
   "id": "16cc42e3",
   "metadata": {},
   "outputs": [],
   "source": [
    "# 1. Создание словаря\n",
    "hash_to_num_dict = {}\n",
    "num_to_hash_dict = {}\n",
    " \n",
    "for column in df.columns:\n",
    "    if df[column].dtype == 'object':  # Проверяем, является ли столбец хэшированным\n",
    "        unique_values = df[column].unique()\n",
    "        hash_to_num = {value: num for num, value in enumerate(unique_values)}\n",
    "        num_to_hash = {num: value for num, value in enumerate(unique_values)}\n",
    "        hash_to_num_dict[column] = hash_to_num\n",
    "        num_to_hash_dict[column] = num_to_hash\n",
    " \n",
    "# 2. Замена хэшей на порядковые номера в df\n",
    "df_num = df.copy()\n",
    "for column, hash_to_num in hash_to_num_dict.items():\n",
    "    df_num[column] = df[column].map(hash_to_num)"
   ]
  },
  {
   "cell_type": "code",
   "execution_count": 21,
   "id": "abf71242",
   "metadata": {},
   "outputs": [
    {
     "data": {
      "image/png": "[encoded data removed]",
      "text/plain": [
       "<Figure size 700x500 with 1 Axes>"
      ]
     },
     "metadata": {},
     "output_type": "display_data"
    }
   ],
   "source": [
    "df_num.groupby('st_id')[['pr_sales_in_units', 'pr_promo_sales_in_units']]\\\n",
    "  .sum()\\\n",
    "  .plot(kind = 'bar',\n",
    "        figsize=(7,5),\n",
    "        title ='');"
   ]
  },
  {
   "cell_type": "code",
   "execution_count": null,
   "id": "5e233867",
   "metadata": {},
   "outputs": [],
   "source": []
  },
  {
   "cell_type": "code",
   "execution_count": null,
   "id": "82521a2d",
   "metadata": {},
   "outputs": [],
   "source": [
    "# 3. Возвращение хэшей обратно на место порядковых номеров в df\n",
    "#df_hash_recovered = df_num.copy()\n",
    "#for column, num_to_hash in num_to_hash_dict.items():\n",
    "    #df_hash_recovered[column] = df_num[column].map(num_to_hash)"
   ]
  }
 ],
 "metadata": {
  "kernelspec": {
   "display_name": "Python 3 (ipykernel)",
   "language": "python",
   "name": "python3"
  },
  "language_info": {
   "codemirror_mode": {
    "name": "ipython",
    "version": 3
   },
   "file_extension": ".py",
   "mimetype": "text/x-python",
   "name": "python",
   "nbconvert_exporter": "python",
   "pygments_lexer": "ipython3",
   "version": "3.9.13"
  }
 },
 "nbformat": 4,
 "nbformat_minor": 5
}
